{
 "cells": [
  {
   "cell_type": "code",
   "execution_count": null,
   "id": "0896d23b",
   "metadata": {},
   "outputs": [],
   "source": [
    "from bs4 import BeautifulSoup\n",
    "import requests \n",
    "import pandas as pd \n",
    "import urllib.parse "
   ]
  },
  {
   "cell_type": "code",
   "execution_count": null,
   "id": "aeeff4b6",
   "metadata": {},
   "outputs": [],
   "source": [
    "address = []\n",
    "bedrooms = []\n",
    "bathrooms = []\n",
    "area = []\n",
    "year_built = []\n",
    "parking = []\n",
    "price = []\n",
    "\n",
    "# url part 1\n",
    "url_part_1 = 'https://www.trulia.com'\n",
    "\n",
    "for i in range(1,26):\n",
    "    \n",
    "    # website\n",
    "    website = 'https://www.trulia.com/CA/Colorado/' +str(i) +'_p/'\n",
    "    \n",
    "    # request\n",
    "    response = requests.get(website)\n",
    "    \n",
    "    # soup \n",
    "    soup = BeautifulSoup(response.content, 'html.parser')\n",
    "    \n",
    "    # result container \n",
    "    result_container = soup.find_all('li', {'class':'SearchResultsList__WideCell-b7y9ki-2'})\n",
    "    \n",
    "    # results update\n",
    "    results_update = []\n",
    "    \n",
    "    # only results with attribute \"data-testid\"\n",
    "    for r in result_container:\n",
    "        if r.has_attr('data-testid'): \n",
    "            results_update.append(r)\n",
    "        \n",
    "    \n",
    "    # relative url\n",
    "    relative_url = []\n",
    "    \n",
    "    # loop thorugh results\n",
    "    for item in results_update:\n",
    "    \n",
    "        for link in item.find_all('div', {'data-testid':'property-card-details'}):\n",
    "            relative_url.append(link.find('a').get('href'))\n",
    "    \n",
    "    # empty list (url joined)\n",
    "    url_joined = []\n",
    "\n",
    "    for link_2 in relative_url:\n",
    "        url_joined.append(urllib.parse.urljoin(url_part_1,link_2))\n",
    "        \n",
    "    # loop through all joined links\n",
    "    for link in url_joined:\n",
    "        response = requests.get(link)\n",
    "\n",
    "        # create soup object\n",
    "        soup = BeautifulSoup(response.content, 'html.parser')\n",
    "\n",
    "        # address \n",
    "        try:\n",
    "            address.append(soup.find('span', {'data-testid':'home-details-summary-headline'}).get_text())\n",
    "        except:\n",
    "            address.append('')\n",
    "\n",
    "        # bedrooms \n",
    "        try:\n",
    "            bedrooms.append(soup.find('li', {'data-testid':'bed'}).get_text())\n",
    "        except:\n",
    "            bedrooms.append('')\n",
    "\n",
    "\n",
    "        # bathrooms \n",
    "        try:\n",
    "            bathrooms.append(soup.find('li', {'data-testid':'bath'}).get_text())\n",
    "        except:\n",
    "            bathrooms.append('')\n",
    "\n",
    "        # area \n",
    "        try:\n",
    "            area.append(soup.find('li', {'data-testid':'floor'}).get_text())\n",
    "        except:\n",
    "            area.append('')\n",
    "\n",
    "        # year_built \n",
    "        try:\n",
    "            year_built.append(soup.find('div', string='Year Built').findNext('div').get_text())\n",
    "        except:\n",
    "            year_built.append('')\n",
    "\n",
    "\n",
    "        # parking \n",
    "        try:\n",
    "            parking.append(soup.find('div', string='Parking').findNext('div').get_text())\n",
    "        except:\n",
    "            parking.append('')\n",
    "\n",
    "        # price \n",
    "        try:\n",
    "            price.append(soup.find('h3', {'data-testid':'on-market-price-details'}).get_text())\n",
    "        except:\n",
    "            price.append('')\n",
    "\n",
    "\n",
    "        # create a dictionary with results\n",
    "        output = {'Address': address, 'Bedrooms':bedrooms, 'Bathrooms': bathrooms, 'Area':area,\n",
    "                 'Year Built': year_built, 'Parking':parking, 'Price':price}\n"
   ]
  },
  {
   "cell_type": "code",
   "execution_count": null,
   "id": "05bf543a",
   "metadata": {},
   "outputs": [],
   "source": [
    "#converting data into dataframe using pandas\n",
    "df = pd.DataFrame(output)\n",
    "df "
   ]
  },
  {
   "cell_type": "code",
   "execution_count": null,
   "id": "bf7ce283",
   "metadata": {},
   "outputs": [],
   "source": [
    "#adding a location field by the name San Diego\n",
    "df['Location'] = 'Colorado'"
   ]
  },
  {
   "cell_type": "code",
   "execution_count": null,
   "id": "0da2019e",
   "metadata": {},
   "outputs": [],
   "source": [
    "df"
   ]
  },
  {
   "cell_type": "code",
   "execution_count": null,
   "id": "4ef25098",
   "metadata": {},
   "outputs": [],
   "source": [
    "#converting data to excel\n",
    "df.to_excel('dataframe_colorado.xlsx', index=False)"
   ]
  },
  {
   "cell_type": "code",
   "execution_count": null,
   "id": "027ebf79",
   "metadata": {},
   "outputs": [],
   "source": []
  },
  {
   "cell_type": "code",
   "execution_count": null,
   "id": "e58ba262",
   "metadata": {},
   "outputs": [],
   "source": []
  },
  {
   "cell_type": "code",
   "execution_count": null,
   "id": "f988a525",
   "metadata": {},
   "outputs": [],
   "source": []
  },
  {
   "cell_type": "code",
   "execution_count": null,
   "id": "2bbeae4a",
   "metadata": {},
   "outputs": [],
   "source": []
  }
 ],
 "metadata": {
  "kernelspec": {
   "display_name": "Python 3 (ipykernel)",
   "language": "python",
   "name": "python3"
  },
  "language_info": {
   "codemirror_mode": {
    "name": "ipython",
    "version": 3
   },
   "file_extension": ".py",
   "mimetype": "text/x-python",
   "name": "python",
   "nbconvert_exporter": "python",
   "pygments_lexer": "ipython3",
   "version": "3.10.11"
  }
 },
 "nbformat": 4,
 "nbformat_minor": 5
}
